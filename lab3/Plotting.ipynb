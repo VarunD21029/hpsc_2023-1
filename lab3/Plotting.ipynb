{
 "cells": [
  {
   "cell_type": "markdown",
   "id": "45fd1c5e",
   "metadata": {},
   "source": [
    "# First jupyter notebook on plotting\n",
    "plots y=%sin(x)"
   ]
  },
  {
   "cell_type": "code",
   "execution_count": null,
   "id": "476f8938",
   "metadata": {},
   "outputs": [],
   "source": [
    "from numpy import *\n",
    "x=linspace(0,6*pi,100)\n",
    "from matplotlib.pyplot import plot\n",
    "print(x)\n",
    "plot(x,sin(x))"
   ]
  },
  {
   "cell_type": "code",
   "execution_count": null,
   "id": "4df9cebb",
   "metadata": {},
   "outputs": [],
   "source": []
  },
  {
   "cell_type": "code",
   "execution_count": null,
   "id": "32c8b534",
   "metadata": {},
   "outputs": [],
   "source": []
  }
 ],
 "metadata": {
  "kernelspec": {
   "display_name": "Python 3 (ipykernel)",
   "language": "python",
   "name": "python3"
  },
  "language_info": {
   "codemirror_mode": {
    "name": "ipython",
    "version": 3
   },
   "file_extension": ".py",
   "mimetype": "text/x-python",
   "name": "python",
   "nbconvert_exporter": "python",
   "pygments_lexer": "ipython3",
   "version": "3.10.6"
  }
 },
 "nbformat": 4,
 "nbformat_minor": 5
}
