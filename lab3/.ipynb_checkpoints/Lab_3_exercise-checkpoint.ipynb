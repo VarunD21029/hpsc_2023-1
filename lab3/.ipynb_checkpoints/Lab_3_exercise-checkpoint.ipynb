{
 "cells": [
  {
   "cell_type": "code",
   "execution_count": 72,
   "id": "dce19b89",
   "metadata": {},
   "outputs": [
    {
     "name": "stdout",
     "output_type": "stream",
     "text": [
      "7.389056098930649\n"
     ]
    }
   ],
   "source": [
    "import math as mt\n",
    "def my_exp(x,nt=100):\n",
    "    sum=0\n",
    "    for i in range(0,nt):\n",
    "        expo=x**i/mt.factorial(i)\n",
    "        sum=sum+expo\n",
    "    return sum\n",
    "print(my_exp(2))    "
   ]
  },
  {
   "cell_type": "code",
   "execution_count": 52,
   "id": "751fc575",
   "metadata": {},
   "outputs": [
    {
     "name": "stdout",
     "output_type": "stream",
     "text": [
      "The difference in value is   1.0000000000000000 at iteration no. 1\n",
      "The difference in value is   2.0000000000000000 at iteration no. 2\n",
      "The difference in value is   2.0000000000000000 at iteration no. 3\n",
      "The difference in value is   1.3333333333333330 at iteration no. 4\n",
      "The difference in value is   0.6666666666666670 at iteration no. 5\n",
      "The difference in value is   0.2666666666666666 at iteration no. 6\n",
      "The difference in value is   0.0888888888888886 at iteration no. 7\n",
      "The difference in value is   0.0253968253968253 at iteration no. 8\n",
      "The difference in value is   0.0063492063492063 at iteration no. 9\n",
      "The difference in value is   0.0014109347442677 at iteration no. 10\n",
      "The difference in value is   0.0002821869488532 at iteration no. 11\n",
      "The difference in value is   0.0000513067179737 at iteration no. 12\n",
      "The difference in value is   0.0000085511196621 at iteration no. 13\n",
      "The difference in value is   0.0000013155568714 at iteration no. 14\n",
      "The difference in value is   0.0000001879366955 at iteration no. 15\n",
      "The difference in value is   0.0000000250582257 at iteration no. 16\n",
      "The difference in value is   0.0000000031322784 at iteration no. 17\n",
      "The difference in value is   0.0000000003685034 at iteration no. 18\n",
      "The difference in value is   0.0000000000409450 at iteration no. 19\n",
      "The difference in value is   0.0000000000043103 at iteration no. 20\n",
      "The value converges at 21 iteration\n"
     ]
    }
   ],
   "source": [
    "tol=1e-12\n",
    "x=2\n",
    "b=range(1,1000)\n",
    "s0=0\n",
    "for i in b:\n",
    "    s=my_exp(x,i)\n",
    "    if abs(s-s0) < tol:\n",
    "        print('The value converges at %s iteration'%i)\n",
    "        break\n",
    "    print('The difference in value is %20.16f at iteration no. %s' % ((s-s0),i))\n",
    "    s0=s"
   ]
  },
  {
   "cell_type": "code",
   "execution_count": 75,
   "id": "dd8d13f8",
   "metadata": {},
   "outputs": [
    {
     "data": {
      "image/png": "[encoded data removed]",
      "text/plain": [
       "<Figure size 640x480 with 1 Axes>"
      ]
     },
     "metadata": {},
     "output_type": "display_data"
    }
   ],
   "source": [
    "import numpy as np\n",
    "import matplotlib.pyplot as plt\n",
    "x=np.linspace(0,100,1000)\n",
    "y1=np.exp(x)\n",
    "y2=my_exp(x)\n",
    "plt.figure(1)\n",
    "plt.plot(x,y1,'-o')\n",
    "plt.plot(x,y2,'-s')\n",
    "plt.xlabel('value')\n",
    "plt.ylabel('$exp(x)$')\n",
    "plt.grid()\n",
    "plt.show()"
   ]
  },
  {
   "cell_type": "code",
   "execution_count": 68,
   "id": "6e20b240",
   "metadata": {},
   "outputs": [
    {
     "name": "stdout",
     "output_type": "stream",
     "text": [
      "636 ns ± 14.4 ns per loop (mean ± std. dev. of 7 runs, 1,000,000 loops each)\n",
      "59.6 µs ± 1.17 µs per loop (mean ± std. dev. of 7 runs, 10,000 loops each)\n",
      "Execution time for the in-built function None\n",
      "Execution time for created function None\n"
     ]
    }
   ],
   "source": [
    "import numpy as np\n",
    "%timeit np.exp(2)\n",
    "%timeit my_exp(2)\n"
   ]
  },
  {
   "cell_type": "code",
   "execution_count": null,
   "id": "0ec99c93",
   "metadata": {},
   "outputs": [],
   "source": []
  },
  {
   "cell_type": "code",
   "execution_count": null,
   "id": "a6ccee30",
   "metadata": {},
   "outputs": [],
   "source": []
  }
 ],
 "metadata": {
  "kernelspec": {
   "display_name": "Python 3 (ipykernel)",
   "language": "python",
   "name": "python3"
  },
  "language_info": {
   "codemirror_mode": {
    "name": "ipython",
    "version": 3
   },
   "file_extension": ".py",
   "mimetype": "text/x-python",
   "name": "python",
   "nbconvert_exporter": "python",
   "pygments_lexer": "ipython3",
   "version": "3.10.6"
  }
 },
 "nbformat": 4,
 "nbformat_minor": 5
}
