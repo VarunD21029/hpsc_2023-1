{
 "cells": [
  {
   "cell_type": "code",
   "execution_count": 15,
   "id": "626dc052",
   "metadata": {},
   "outputs": [
    {
     "name": "stdout",
     "output_type": "stream",
     "text": [
      "7.389056098930649\n"
     ]
    },
    {
     "data": {
      "text/plain": [
       "788657867364790503552363213932185062295135977687173263294742533244359449963403342920304284011984623904177212138919638830257642790242637105061926624952829931113462857270763317237396988943922445621451664240254033291864131227428294853277524242407573903240321257405579568660226031904170324062351700858796178922222789623703897374720000000000000000000000000000000000000000000000000"
      ]
     },
     "execution_count": 15,
     "metadata": {},
     "output_type": "execute_result"
    }
   ],
   "source": [
    "import math as mt\n",
    "def my_exp(x,nt=100):\n",
    "    sum=0\n",
    "    for i in range(0,nt):\n",
    "        expo=x**i/mt.factorial(i)\n",
    "        sum=sum+expo\n",
    "    return sum\n",
    "print(my_exp(2))    "
   ]
  },
  {
   "cell_type": "code",
   "execution_count": 28,
   "id": "617f25af",
   "metadata": {},
   "outputs": [
    {
     "name": "stdout",
     "output_type": "stream",
     "text": [
      "The difference in value is   1.0000000000000000 at iteration no. 1\n",
      "The difference in value is  15.0000000000000000 at iteration no. 2\n",
      "The difference in value is 112.5000000000000000 at iteration no. 3\n",
      "The difference in value is 562.5000000000000000 at iteration no. 4\n",
      "The difference in value is 2109.3750000000000000 at iteration no. 5\n",
      "The difference in value is 6328.1250000000000000 at iteration no. 6\n",
      "The difference in value is 15820.3125000000000000 at iteration no. 7\n",
      "The difference in value is 33900.6696428571449360 at iteration no. 8\n",
      "The difference in value is 63563.7555803571449360 at iteration no. 9\n",
      "The difference in value is 105939.5926339285506401 at iteration no. 10\n",
      "The difference in value is 158909.3889508928405121 at iteration no. 11\n",
      "The difference in value is 216694.6212966721504927 at iteration no. 12\n",
      "The difference in value is 270868.2766208400717005 at iteration no. 13\n",
      "The difference in value is 312540.3191778924083337 at iteration no. 14\n",
      "The difference in value is 334864.6276905990671366 at iteration no. 15\n",
      "The difference in value is 334864.6276905990671366 at iteration no. 16\n",
      "The difference in value is 313935.5884599364362657 at iteration no. 17\n",
      "The difference in value is 277001.9898175909183919 at iteration no. 18\n",
      "The difference in value is 230834.9915146590210497 at iteration no. 19\n",
      "The difference in value is 182238.1511957836337388 at iteration no. 20\n",
      "The difference in value is 136678.6133968378417194 at iteration no. 21\n",
      "The difference in value is 97627.5809977413155138 at iteration no. 22\n",
      "The difference in value is 66564.2597711873240769 at iteration no. 23\n",
      "The difference in value is 43411.4737638179212809 at iteration no. 24\n",
      "The difference in value is 27132.1711023859679699 at iteration no. 25\n",
      "The difference in value is 16279.3026614314876497 at iteration no. 26\n",
      "The difference in value is 9391.9053815952502191 at iteration no. 27\n",
      "The difference in value is 5217.7252119975164533 at iteration no. 28\n",
      "The difference in value is 2795.2099349987693131 at iteration no. 29\n",
      "The difference in value is 1445.7982422406785190 at iteration no. 30\n",
      "The difference in value is 722.8991211201064289 at iteration no. 31\n",
      "The difference in value is 349.7898973161354661 at iteration no. 32\n",
      "The difference in value is 163.9640143672004342 at iteration no. 33\n",
      "The difference in value is  74.5290974397212267 at iteration no. 34\n",
      "The difference in value is  32.8804841646924615 at iteration no. 35\n",
      "The difference in value is  14.0916360705159605 at iteration no. 36\n",
      "The difference in value is   5.8715150295756757 at iteration no. 37\n",
      "The difference in value is   2.3803439307957888 at iteration no. 38\n",
      "The difference in value is   0.9396094465628266 at iteration no. 39\n",
      "The difference in value is   0.3613882483914495 at iteration no. 40\n",
      "The difference in value is   0.1355205932632089 at iteration no. 41\n",
      "The difference in value is   0.0495807048864663 at iteration no. 42\n",
      "The difference in value is   0.0177073944360018 at iteration no. 43\n",
      "The difference in value is   0.0061769979074597 at iteration no. 44\n",
      "The difference in value is   0.0021057948470116 at iteration no. 45\n",
      "The difference in value is   0.0007019317708910 at iteration no. 46\n",
      "The difference in value is   0.0002288906835020 at iteration no. 47\n",
      "The difference in value is   0.0000730501487851 at iteration no. 48\n",
      "The difference in value is   0.0000228281132877 at iteration no. 49\n",
      "The difference in value is   0.0000069881789386 at iteration no. 50\n",
      "The difference in value is   0.0000020964071155 at iteration no. 51\n",
      "The difference in value is   0.0000006165355444 at iteration no. 52\n",
      "The difference in value is   0.0000001778826118 at iteration no. 53\n",
      "The difference in value is   0.0000000502914190 at iteration no. 54\n",
      "The difference in value is   0.0000000139698386 at iteration no. 55\n",
      "The difference in value is   0.0000000037252903 at iteration no. 56\n",
      "The difference in value is   0.0000000009313226 at iteration no. 57\n",
      "The difference in value is   0.0000000004656613 at iteration no. 58\n",
      "The value converges at 59 iteration\n"
     ]
    }
   ],
   "source": [
    "tol=1e-12\n",
    "x=15\n",
    "b=range(1,1000)\n",
    "s0=0\n",
    "for i in b:\n",
    "    s=my_exp(x,i)\n",
    "    if abs(s-s0) < tol:\n",
    "        print('The value converges at %s iteration'%i)\n",
    "        break\n",
    "    print('The difference in value is %20.16f at iteration no. %s' % ((s-s0),i))\n",
    "    s0=s"
   ]
  },
  {
   "cell_type": "code",
   "execution_count": 34,
   "id": "f9bda22b",
   "metadata": {},
   "outputs": [
    {
     "data": {
      "image/png": "[encoded data removed]",
      "text/plain": [
       "<Figure size 640x480 with 1 Axes>"
      ]
     },
     "metadata": {},
     "output_type": "display_data"
    }
   ],
   "source": [
    "import numpy as np\n",
    "import matplotlib.pyplot as plt\n",
    "x=np.linspace(0,100,1000)\n",
    "y1=np.exp(x)\n",
    "y2=my_exp(x,155)\n",
    "plt.figure(1)\n",
    "plt.plot(x,y1,'o')\n",
    "plt.plot(x,y2,'-')\n",
    "plt.xlabel('value')\n",
    "plt.ylabel('$exp(x)$')\n",
    "plt.grid()\n",
    "plt.show()"
   ]
  },
  {
   "cell_type": "code",
   "execution_count": 35,
   "id": "66475a13",
   "metadata": {},
   "outputs": [
    {
     "name": "stdout",
     "output_type": "stream",
     "text": [
      "687 ns ± 9.79 ns per loop (mean ± std. dev. of 7 runs, 1,000,000 loops each)\n",
      "58.8 µs ± 154 ns per loop (mean ± std. dev. of 7 runs, 10,000 loops each)\n"
     ]
    }
   ],
   "source": [
    "import numpy as np\n",
    "%timeit np.exp(2)\n",
    "%timeit my_exp(2)\n"
   ]
  },
  {
   "cell_type": "code",
   "execution_count": null,
   "id": "bf6ad5ec",
   "metadata": {},
   "outputs": [],
   "source": []
  },
  {
   "cell_type": "code",
   "execution_count": null,
   "id": "6e898207",
   "metadata": {},
   "outputs": [],
   "source": []
  }
 ],
 "metadata": {
  "kernelspec": {
   "display_name": "Python 3 (ipykernel)",
   "language": "python",
   "name": "python3"
  },
  "language_info": {
   "codemirror_mode": {
    "name": "ipython",
    "version": 3
   },
   "file_extension": ".py",
   "mimetype": "text/x-python",
   "name": "python",
   "nbconvert_exporter": "python",
   "pygments_lexer": "ipython3",
   "version": "3.10.6"
  }
 },
 "nbformat": 4,
 "nbformat_minor": 5
}
